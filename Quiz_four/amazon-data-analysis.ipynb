{
 "cells": [
  {
   "cell_type": "code",
   "execution_count": 1,
   "id": "716e89ef",
   "metadata": {
    "execution": {
     "iopub.execute_input": "2023-01-13T03:10:25.427592Z",
     "iopub.status.busy": "2023-01-13T03:10:25.427063Z",
     "iopub.status.idle": "2023-01-13T03:10:31.330131Z",
     "shell.execute_reply": "2023-01-13T03:10:31.329037Z"
    },
    "papermill": {
     "duration": 5.917029,
     "end_time": "2023-01-13T03:10:31.333192",
     "exception": false,
     "start_time": "2023-01-13T03:10:25.416163",
     "status": "completed"
    },
    "tags": []
   },
   "outputs": [],
   "source": [
    "import tensorflow as tf\n",
    "import numpy as np\n",
    "import pandas as pd\n",
    "import matplotlib.pyplot as plt\n",
    "from keras import backend as K\n",
    "from keras.models import Sequential\n",
    "from keras.layers import Input, Dropout, Dense, Flatten, BatchNormalization, Conv2D, MaxPool2D, MaxPooling2D\n",
    "from keras.preprocessing.image import ImageDataGenerator\n",
    "from tensorflow.keras.models import Model\n",
    "from keras.callbacks import EarlyStopping, TensorBoard, ModelCheckpoint\n",
    "from tensorflow.keras.optimizers import Adam, SGD\n",
    "from PIL import Image\n",
    "from sklearn.metrics import fbeta_score\n",
    "from sklearn.model_selection import train_test_split\n",
    "import cv2\n",
    "import os\n",
    "from tqdm import tqdm"
   ]
  },
  {
   "cell_type": "code",
   "execution_count": 2,
   "id": "71aea623",
   "metadata": {
    "execution": {
     "iopub.execute_input": "2023-01-13T03:10:31.350977Z",
     "iopub.status.busy": "2023-01-13T03:10:31.350460Z",
     "iopub.status.idle": "2023-01-13T03:10:32.325343Z",
     "shell.execute_reply": "2023-01-13T03:10:32.324124Z"
    },
    "papermill": {
     "duration": 0.986541,
     "end_time": "2023-01-13T03:10:32.327832",
     "exception": false,
     "start_time": "2023-01-13T03:10:31.341291",
     "status": "completed"
    },
    "tags": []
   },
   "outputs": [
    {
     "name": "stdout",
     "output_type": "stream",
     "text": [
      "sample_submission.csv  test-jpg  train-jpg  train_classes.csv\r\n"
     ]
    }
   ],
   "source": [
    "!ls ../input/planets-dataset/planet/planet"
   ]
  },
  {
   "cell_type": "code",
   "execution_count": 3,
   "id": "5bfc5338",
   "metadata": {
    "execution": {
     "iopub.execute_input": "2023-01-13T03:10:32.345489Z",
     "iopub.status.busy": "2023-01-13T03:10:32.344579Z",
     "iopub.status.idle": "2023-01-13T03:10:32.351374Z",
     "shell.execute_reply": "2023-01-13T03:10:32.350507Z"
    },
    "papermill": {
     "duration": 0.017796,
     "end_time": "2023-01-13T03:10:32.353384",
     "exception": false,
     "start_time": "2023-01-13T03:10:32.335588",
     "status": "completed"
    },
    "tags": []
   },
   "outputs": [],
   "source": [
    "path = \"../input/planets-dataset/planet/planet/\"\n",
    "train_path = os.path.join(path, \"train-jpg\")\n",
    "test_path = os.path.join(path, \"test-jpg\")\n",
    "class_path = os.path.join(path, \"train_classes.csv\")\n",
    "submission_path = os.path.join(path, \"sample_submission.csv\")"
   ]
  },
  {
   "cell_type": "code",
   "execution_count": 4,
   "id": "f06dba9a",
   "metadata": {
    "execution": {
     "iopub.execute_input": "2023-01-13T03:10:32.370491Z",
     "iopub.status.busy": "2023-01-13T03:10:32.369646Z",
     "iopub.status.idle": "2023-01-13T03:10:32.540907Z",
     "shell.execute_reply": "2023-01-13T03:10:32.539280Z"
    },
    "papermill": {
     "duration": 0.182143,
     "end_time": "2023-01-13T03:10:32.543182",
     "exception": false,
     "start_time": "2023-01-13T03:10:32.361039",
     "status": "completed"
    },
    "tags": []
   },
   "outputs": [
    {
     "name": "stdout",
     "output_type": "stream",
     "text": [
      "(40479, 2)\n",
      "(61191, 2)\n"
     ]
    }
   ],
   "source": [
    "#reading the labels\n",
    "df = pd.read_csv(class_path)\n",
    "submission_df = pd.read_csv(submission_path)\n",
    "\n",
    "print(df.shape)\n",
    "print(submission_df.shape)"
   ]
  },
  {
   "cell_type": "code",
   "execution_count": 5,
   "id": "77347c7e",
   "metadata": {
    "execution": {
     "iopub.execute_input": "2023-01-13T03:10:32.560879Z",
     "iopub.status.busy": "2023-01-13T03:10:32.559436Z",
     "iopub.status.idle": "2023-01-13T03:10:32.600021Z",
     "shell.execute_reply": "2023-01-13T03:10:32.599111Z"
    },
    "papermill": {
     "duration": 0.051126,
     "end_time": "2023-01-13T03:10:32.602270",
     "exception": false,
     "start_time": "2023-01-13T03:10:32.551144",
     "status": "completed"
    },
    "tags": []
   },
   "outputs": [],
   "source": [
    "label_list = []\n",
    "for tag_split in df.tags.to_numpy():\n",
    "    labels = tag_split.split(' ')\n",
    "    for label in labels:\n",
    "        if label not in label_list:\n",
    "            label_list.append(label)"
   ]
  },
  {
   "cell_type": "code",
   "execution_count": 6,
   "id": "4812f10b",
   "metadata": {
    "execution": {
     "iopub.execute_input": "2023-01-13T03:10:32.620215Z",
     "iopub.status.busy": "2023-01-13T03:10:32.619503Z",
     "iopub.status.idle": "2023-01-13T03:10:32.624507Z",
     "shell.execute_reply": "2023-01-13T03:10:32.623400Z"
    },
    "papermill": {
     "duration": 0.016071,
     "end_time": "2023-01-13T03:10:32.627234",
     "exception": false,
     "start_time": "2023-01-13T03:10:32.611163",
     "status": "completed"
    },
    "tags": []
   },
   "outputs": [
    {
     "name": "stdout",
     "output_type": "stream",
     "text": [
      "17\n"
     ]
    }
   ],
   "source": [
    "print(len(label_list))"
   ]
  },
  {
   "cell_type": "code",
   "execution_count": 7,
   "id": "5450e303",
   "metadata": {
    "execution": {
     "iopub.execute_input": "2023-01-13T03:10:32.644716Z",
     "iopub.status.busy": "2023-01-13T03:10:32.644146Z",
     "iopub.status.idle": "2023-01-13T03:10:32.652957Z",
     "shell.execute_reply": "2023-01-13T03:10:32.652051Z"
    },
    "papermill": {
     "duration": 0.019212,
     "end_time": "2023-01-13T03:10:32.655022",
     "exception": false,
     "start_time": "2023-01-13T03:10:32.635810",
     "status": "completed"
    },
    "tags": []
   },
   "outputs": [
    {
     "data": {
      "text/plain": [
       "{0: 'haze',\n",
       " 1: 'primary',\n",
       " 2: 'agriculture',\n",
       " 3: 'clear',\n",
       " 4: 'water',\n",
       " 5: 'habitation',\n",
       " 6: 'road',\n",
       " 7: 'cultivation',\n",
       " 8: 'slash_burn',\n",
       " 9: 'cloudy',\n",
       " 10: 'partly_cloudy',\n",
       " 11: 'conventional_mine',\n",
       " 12: 'bare_ground',\n",
       " 13: 'artisinal_mine',\n",
       " 14: 'blooming',\n",
       " 15: 'selective_logging',\n",
       " 16: 'blow_down'}"
      ]
     },
     "execution_count": 7,
     "metadata": {},
     "output_type": "execute_result"
    }
   ],
   "source": [
    "labels_dict = dict(zip(range(0,17), label_list))\n",
    "labels_dict"
   ]
  },
  {
   "cell_type": "code",
   "execution_count": 8,
   "id": "70d2cdf4",
   "metadata": {
    "execution": {
     "iopub.execute_input": "2023-01-13T03:10:32.671749Z",
     "iopub.status.busy": "2023-01-13T03:10:32.670937Z",
     "iopub.status.idle": "2023-01-13T03:10:33.079845Z",
     "shell.execute_reply": "2023-01-13T03:10:33.078896Z"
    },
    "papermill": {
     "duration": 0.419571,
     "end_time": "2023-01-13T03:10:33.082101",
     "exception": false,
     "start_time": "2023-01-13T03:10:32.662530",
     "status": "completed"
    },
    "tags": []
   },
   "outputs": [
    {
     "data": {
      "text/html": [
       "<div>\n",
       "<style scoped>\n",
       "    .dataframe tbody tr th:only-of-type {\n",
       "        vertical-align: middle;\n",
       "    }\n",
       "\n",
       "    .dataframe tbody tr th {\n",
       "        vertical-align: top;\n",
       "    }\n",
       "\n",
       "    .dataframe thead th {\n",
       "        text-align: right;\n",
       "    }\n",
       "</style>\n",
       "<table border=\"1\" class=\"dataframe\">\n",
       "  <thead>\n",
       "    <tr style=\"text-align: right;\">\n",
       "      <th></th>\n",
       "      <th>image_name</th>\n",
       "      <th>tags</th>\n",
       "      <th>haze</th>\n",
       "      <th>primary</th>\n",
       "      <th>agriculture</th>\n",
       "      <th>clear</th>\n",
       "      <th>water</th>\n",
       "      <th>habitation</th>\n",
       "      <th>road</th>\n",
       "      <th>cultivation</th>\n",
       "      <th>slash_burn</th>\n",
       "      <th>cloudy</th>\n",
       "      <th>partly_cloudy</th>\n",
       "      <th>conventional_mine</th>\n",
       "      <th>bare_ground</th>\n",
       "      <th>artisinal_mine</th>\n",
       "      <th>blooming</th>\n",
       "      <th>selective_logging</th>\n",
       "      <th>blow_down</th>\n",
       "    </tr>\n",
       "  </thead>\n",
       "  <tbody>\n",
       "    <tr>\n",
       "      <th>0</th>\n",
       "      <td>train_0</td>\n",
       "      <td>haze primary</td>\n",
       "      <td>1</td>\n",
       "      <td>1</td>\n",
       "      <td>0</td>\n",
       "      <td>0</td>\n",
       "      <td>0</td>\n",
       "      <td>0</td>\n",
       "      <td>0</td>\n",
       "      <td>0</td>\n",
       "      <td>0</td>\n",
       "      <td>0</td>\n",
       "      <td>0</td>\n",
       "      <td>0</td>\n",
       "      <td>0</td>\n",
       "      <td>0</td>\n",
       "      <td>0</td>\n",
       "      <td>0</td>\n",
       "      <td>0</td>\n",
       "    </tr>\n",
       "    <tr>\n",
       "      <th>1</th>\n",
       "      <td>train_1</td>\n",
       "      <td>agriculture clear primary water</td>\n",
       "      <td>0</td>\n",
       "      <td>1</td>\n",
       "      <td>1</td>\n",
       "      <td>1</td>\n",
       "      <td>1</td>\n",
       "      <td>0</td>\n",
       "      <td>0</td>\n",
       "      <td>0</td>\n",
       "      <td>0</td>\n",
       "      <td>0</td>\n",
       "      <td>0</td>\n",
       "      <td>0</td>\n",
       "      <td>0</td>\n",
       "      <td>0</td>\n",
       "      <td>0</td>\n",
       "      <td>0</td>\n",
       "      <td>0</td>\n",
       "    </tr>\n",
       "    <tr>\n",
       "      <th>2</th>\n",
       "      <td>train_2</td>\n",
       "      <td>clear primary</td>\n",
       "      <td>0</td>\n",
       "      <td>1</td>\n",
       "      <td>0</td>\n",
       "      <td>1</td>\n",
       "      <td>0</td>\n",
       "      <td>0</td>\n",
       "      <td>0</td>\n",
       "      <td>0</td>\n",
       "      <td>0</td>\n",
       "      <td>0</td>\n",
       "      <td>0</td>\n",
       "      <td>0</td>\n",
       "      <td>0</td>\n",
       "      <td>0</td>\n",
       "      <td>0</td>\n",
       "      <td>0</td>\n",
       "      <td>0</td>\n",
       "    </tr>\n",
       "  </tbody>\n",
       "</table>\n",
       "</div>"
      ],
      "text/plain": [
       "  image_name                             tags  haze  primary  agriculture  \\\n",
       "0    train_0                     haze primary     1        1            0   \n",
       "1    train_1  agriculture clear primary water     0        1            1   \n",
       "2    train_2                    clear primary     0        1            0   \n",
       "\n",
       "   clear  water  habitation  road  cultivation  slash_burn  cloudy  \\\n",
       "0      0      0           0     0            0           0       0   \n",
       "1      1      1           0     0            0           0       0   \n",
       "2      1      0           0     0            0           0       0   \n",
       "\n",
       "   partly_cloudy  conventional_mine  bare_ground  artisinal_mine  blooming  \\\n",
       "0              0                  0            0               0         0   \n",
       "1              0                  0            0               0         0   \n",
       "2              0                  0            0               0         0   \n",
       "\n",
       "   selective_logging  blow_down  \n",
       "0                  0          0  \n",
       "1                  0          0  \n",
       "2                  0          0  "
      ]
     },
     "execution_count": 8,
     "metadata": {},
     "output_type": "execute_result"
    }
   ],
   "source": [
    "# One-hot encode the features\n",
    "for label in label_list:\n",
    "    df[label] = df['tags'].apply(lambda x: 1 if label in x.split() else 0)\n",
    "    \n",
    "df.head(3)"
   ]
  },
  {
   "cell_type": "code",
   "execution_count": 9,
   "id": "9dd1bc1d",
   "metadata": {
    "execution": {
     "iopub.execute_input": "2023-01-13T03:10:33.099660Z",
     "iopub.status.busy": "2023-01-13T03:10:33.099375Z",
     "iopub.status.idle": "2023-01-13T03:10:33.417930Z",
     "shell.execute_reply": "2023-01-13T03:10:33.416958Z"
    },
    "papermill": {
     "duration": 0.329592,
     "end_time": "2023-01-13T03:10:33.419970",
     "exception": false,
     "start_time": "2023-01-13T03:10:33.090378",
     "status": "completed"
    },
    "tags": []
   },
   "outputs": [
    {
     "data": {
      "image/png": "[encoded data removed]",
      "text/plain": [
       "<Figure size 720x360 with 1 Axes>"
      ]
     },
     "metadata": {
      "needs_background": "light"
     },
     "output_type": "display_data"
    }
   ],
   "source": [
    "# plot the labels      \n",
    "df[label_list].sum().sort_values(ascending=False)\\\n",
    ".plot(kind='barh', title='Label instance distribution', orientation= 'vertical', figsize=(10, 5), color='blue')\n",
    "plt.show()"
   ]
  },
  {
   "cell_type": "code",
   "execution_count": 10,
   "id": "2d8ab9a6",
   "metadata": {
    "execution": {
     "iopub.execute_input": "2023-01-13T03:10:33.438165Z",
     "iopub.status.busy": "2023-01-13T03:10:33.437868Z",
     "iopub.status.idle": "2023-01-13T03:10:33.631216Z",
     "shell.execute_reply": "2023-01-13T03:10:33.630134Z"
    },
    "papermill": {
     "duration": 0.204793,
     "end_time": "2023-01-13T03:10:33.633449",
     "exception": false,
     "start_time": "2023-01-13T03:10:33.428656",
     "status": "completed"
    },
    "tags": []
   },
   "outputs": [
    {
     "data": {
      "text/plain": [
       "4839"
      ]
     },
     "execution_count": 10,
     "metadata": {},
     "output_type": "execute_result"
    }
   ],
   "source": [
    "import gc\n",
    "gc.collect()"
   ]
  },
  {
   "cell_type": "code",
   "execution_count": 11,
   "id": "564ee8b3",
   "metadata": {
    "execution": {
     "iopub.execute_input": "2023-01-13T03:10:33.651825Z",
     "iopub.status.busy": "2023-01-13T03:10:33.651496Z",
     "iopub.status.idle": "2023-01-13T03:10:33.656916Z",
     "shell.execute_reply": "2023-01-13T03:10:33.655773Z"
    },
    "papermill": {
     "duration": 0.017606,
     "end_time": "2023-01-13T03:10:33.659470",
     "exception": false,
     "start_time": "2023-01-13T03:10:33.641864",
     "status": "completed"
    },
    "tags": []
   },
   "outputs": [],
   "source": [
    "# for the analysis we need columns after tag and image_name\n",
    "df_columns = list(df.columns[2:])\n",
    "# print(df_columns,end='')"
   ]
  },
  {
   "cell_type": "code",
   "execution_count": 12,
   "id": "61bc3645",
   "metadata": {
    "execution": {
     "iopub.execute_input": "2023-01-13T03:10:33.680307Z",
     "iopub.status.busy": "2023-01-13T03:10:33.679270Z",
     "iopub.status.idle": "2023-01-13T03:10:33.707536Z",
     "shell.execute_reply": "2023-01-13T03:10:33.706352Z"
    },
    "papermill": {
     "duration": 0.041337,
     "end_time": "2023-01-13T03:10:33.710200",
     "exception": false,
     "start_time": "2023-01-13T03:10:33.668863",
     "status": "completed"
    },
    "tags": []
   },
   "outputs": [
    {
     "data": {
      "text/html": [
       "<div>\n",
       "<style scoped>\n",
       "    .dataframe tbody tr th:only-of-type {\n",
       "        vertical-align: middle;\n",
       "    }\n",
       "\n",
       "    .dataframe tbody tr th {\n",
       "        vertical-align: top;\n",
       "    }\n",
       "\n",
       "    .dataframe thead th {\n",
       "        text-align: right;\n",
       "    }\n",
       "</style>\n",
       "<table border=\"1\" class=\"dataframe\">\n",
       "  <thead>\n",
       "    <tr style=\"text-align: right;\">\n",
       "      <th></th>\n",
       "      <th>image_name</th>\n",
       "      <th>tags</th>\n",
       "      <th>haze</th>\n",
       "      <th>primary</th>\n",
       "      <th>agriculture</th>\n",
       "      <th>clear</th>\n",
       "      <th>water</th>\n",
       "      <th>habitation</th>\n",
       "      <th>road</th>\n",
       "      <th>cultivation</th>\n",
       "      <th>slash_burn</th>\n",
       "      <th>cloudy</th>\n",
       "      <th>partly_cloudy</th>\n",
       "      <th>conventional_mine</th>\n",
       "      <th>bare_ground</th>\n",
       "      <th>artisinal_mine</th>\n",
       "      <th>blooming</th>\n",
       "      <th>selective_logging</th>\n",
       "      <th>blow_down</th>\n",
       "    </tr>\n",
       "  </thead>\n",
       "  <tbody>\n",
       "    <tr>\n",
       "      <th>0</th>\n",
       "      <td>train_0.jpg</td>\n",
       "      <td>haze primary</td>\n",
       "      <td>1</td>\n",
       "      <td>1</td>\n",
       "      <td>0</td>\n",
       "      <td>0</td>\n",
       "      <td>0</td>\n",
       "      <td>0</td>\n",
       "      <td>0</td>\n",
       "      <td>0</td>\n",
       "      <td>0</td>\n",
       "      <td>0</td>\n",
       "      <td>0</td>\n",
       "      <td>0</td>\n",
       "      <td>0</td>\n",
       "      <td>0</td>\n",
       "      <td>0</td>\n",
       "      <td>0</td>\n",
       "      <td>0</td>\n",
       "    </tr>\n",
       "    <tr>\n",
       "      <th>1</th>\n",
       "      <td>train_1.jpg</td>\n",
       "      <td>agriculture clear primary water</td>\n",
       "      <td>0</td>\n",
       "      <td>1</td>\n",
       "      <td>1</td>\n",
       "      <td>1</td>\n",
       "      <td>1</td>\n",
       "      <td>0</td>\n",
       "      <td>0</td>\n",
       "      <td>0</td>\n",
       "      <td>0</td>\n",
       "      <td>0</td>\n",
       "      <td>0</td>\n",
       "      <td>0</td>\n",
       "      <td>0</td>\n",
       "      <td>0</td>\n",
       "      <td>0</td>\n",
       "      <td>0</td>\n",
       "      <td>0</td>\n",
       "    </tr>\n",
       "    <tr>\n",
       "      <th>2</th>\n",
       "      <td>train_2.jpg</td>\n",
       "      <td>clear primary</td>\n",
       "      <td>0</td>\n",
       "      <td>1</td>\n",
       "      <td>0</td>\n",
       "      <td>1</td>\n",
       "      <td>0</td>\n",
       "      <td>0</td>\n",
       "      <td>0</td>\n",
       "      <td>0</td>\n",
       "      <td>0</td>\n",
       "      <td>0</td>\n",
       "      <td>0</td>\n",
       "      <td>0</td>\n",
       "      <td>0</td>\n",
       "      <td>0</td>\n",
       "      <td>0</td>\n",
       "      <td>0</td>\n",
       "      <td>0</td>\n",
       "    </tr>\n",
       "  </tbody>\n",
       "</table>\n",
       "</div>"
      ],
      "text/plain": [
       "    image_name                             tags  haze  primary  agriculture  \\\n",
       "0  train_0.jpg                     haze primary     1        1            0   \n",
       "1  train_1.jpg  agriculture clear primary water     0        1            1   \n",
       "2  train_2.jpg                    clear primary     0        1            0   \n",
       "\n",
       "   clear  water  habitation  road  cultivation  slash_burn  cloudy  \\\n",
       "0      0      0           0     0            0           0       0   \n",
       "1      1      1           0     0            0           0       0   \n",
       "2      1      0           0     0            0           0       0   \n",
       "\n",
       "   partly_cloudy  conventional_mine  bare_ground  artisinal_mine  blooming  \\\n",
       "0              0                  0            0               0         0   \n",
       "1              0                  0            0               0         0   \n",
       "2              0                  0            0               0         0   \n",
       "\n",
       "   selective_logging  blow_down  \n",
       "0                  0          0  \n",
       "1                  0          0  \n",
       "2                  0          0  "
      ]
     },
     "execution_count": 12,
     "metadata": {},
     "output_type": "execute_result"
    }
   ],
   "source": [
    "# Onehot encode the image name\n",
    "df['image_name'] = df['image_name'].apply(lambda x: f'{x}.jpg')\n",
    "df.head(3)"
   ]
  },
  {
   "cell_type": "code",
   "execution_count": 13,
   "id": "11ea1930",
   "metadata": {
    "execution": {
     "iopub.execute_input": "2023-01-13T03:10:33.731903Z",
     "iopub.status.busy": "2023-01-13T03:10:33.731002Z",
     "iopub.status.idle": "2023-01-13T03:10:33.884521Z",
     "shell.execute_reply": "2023-01-13T03:10:33.883448Z"
    },
    "papermill": {
     "duration": 0.16709,
     "end_time": "2023-01-13T03:10:33.887077",
     "exception": false,
     "start_time": "2023-01-13T03:10:33.719987",
     "status": "completed"
    },
    "tags": []
   },
   "outputs": [
    {
     "data": {
      "text/plain": [
       "63"
      ]
     },
     "execution_count": 13,
     "metadata": {},
     "output_type": "execute_result"
    }
   ],
   "source": [
    "import gc\n",
    "gc.collect()"
   ]
  },
  {
   "cell_type": "code",
   "execution_count": 14,
   "id": "f45bb58c",
   "metadata": {
    "execution": {
     "iopub.execute_input": "2023-01-13T03:10:33.905434Z",
     "iopub.status.busy": "2023-01-13T03:10:33.905148Z",
     "iopub.status.idle": "2023-01-13T03:10:33.911897Z",
     "shell.execute_reply": "2023-01-13T03:10:33.910880Z"
    },
    "papermill": {
     "duration": 0.018335,
     "end_time": "2023-01-13T03:10:33.914152",
     "exception": false,
     "start_time": "2023-01-13T03:10:33.895817",
     "status": "completed"
    },
    "tags": []
   },
   "outputs": [],
   "source": [
    "def f_beta_score(y_true, y_pred, beta = 2, epsilon = 1e-4):\n",
    "    \n",
    "    beta_squared = beta**2\n",
    "    \n",
    "    y_true = tf.cast(y_true, tf.float32)\n",
    "    y_pred = tf.cast(tf.greater(tf.cast(y_pred, tf.float32), tf.constant(0.5)), tf.float32)\n",
    "    \n",
    "    tp = tf.reduce_sum(y_true * y_pred, axis = 1)\n",
    "    fp = tf.reduce_sum(y_pred, axis = 1) - tp\n",
    "    fn = tf.reduce_sum(y_true, axis = 1) - tp\n",
    "    \n",
    "    precision = tp/(tp +fp +epsilon)\n",
    "    recall = tp/(tp + fn + epsilon)\n",
    "    \n",
    "    return (1 + beta_squared) * precision * recall / (beta_squared * precision + recall + epsilon)\n"
   ]
  },
  {
   "cell_type": "code",
   "execution_count": 15,
   "id": "1aa41a06",
   "metadata": {
    "execution": {
     "iopub.execute_input": "2023-01-13T03:10:33.932355Z",
     "iopub.status.busy": "2023-01-13T03:10:33.932058Z",
     "iopub.status.idle": "2023-01-13T03:10:33.939100Z",
     "shell.execute_reply": "2023-01-13T03:10:33.938151Z"
    },
    "papermill": {
     "duration": 0.018596,
     "end_time": "2023-01-13T03:10:33.941151",
     "exception": false,
     "start_time": "2023-01-13T03:10:33.922555",
     "status": "completed"
    },
    "tags": []
   },
   "outputs": [],
   "source": [
    "def accuracy_score(y_true, y_pred, epsilon = 1e-4):\n",
    "    \n",
    "    y_true = tf.cast(y_true, tf.float32)\n",
    "    y_pred = tf.cast(tf.greater(tf.cast(y_pred, tf.float32), tf.constant(0.5)), tf.float32)\n",
    "    \n",
    "    tp = tf.reduce_sum(y_true * y_pred, axis = 1)\n",
    "    fp = tf.reduce_sum(y_pred, axis = 1) - tp\n",
    "    fn = tf.reduce_sum(y_true, axis = 1) - tp\n",
    "    \n",
    "    y_true = tf.cast(y_true, tf.bool)\n",
    "    y_pred = tf.cast(y_pred, tf.bool)\n",
    "        \n",
    "    tn = tf.reduce_sum(tf.cast(tf.logical_not(y_true), tf.float32) * tf.cast(tf.logical_not(y_pred), tf.float32), \n",
    "                       axis = 1)\n",
    "    return (tp + tn)/(tp + tn + fp + fn + epsilon)"
   ]
  },
  {
   "cell_type": "code",
   "execution_count": 16,
   "id": "3148db07",
   "metadata": {
    "execution": {
     "iopub.execute_input": "2023-01-13T03:10:33.959679Z",
     "iopub.status.busy": "2023-01-13T03:10:33.958733Z",
     "iopub.status.idle": "2023-01-13T03:10:34.103722Z",
     "shell.execute_reply": "2023-01-13T03:10:34.102627Z"
    },
    "papermill": {
     "duration": 0.156876,
     "end_time": "2023-01-13T03:10:34.106386",
     "exception": false,
     "start_time": "2023-01-13T03:10:33.949510",
     "status": "completed"
    },
    "tags": []
   },
   "outputs": [
    {
     "data": {
      "text/plain": [
       "21"
      ]
     },
     "execution_count": 16,
     "metadata": {},
     "output_type": "execute_result"
    }
   ],
   "source": [
    "import gc\n",
    "gc.collect()"
   ]
  },
  {
   "cell_type": "code",
   "execution_count": 17,
   "id": "042a8c6e",
   "metadata": {
    "execution": {
     "iopub.execute_input": "2023-01-13T03:10:34.125351Z",
     "iopub.status.busy": "2023-01-13T03:10:34.125047Z",
     "iopub.status.idle": "2023-01-13T03:12:23.014549Z",
     "shell.execute_reply": "2023-01-13T03:12:23.013338Z"
    },
    "papermill": {
     "duration": 108.901956,
     "end_time": "2023-01-13T03:12:23.017420",
     "exception": false,
     "start_time": "2023-01-13T03:10:34.115464",
     "status": "completed"
    },
    "tags": []
   },
   "outputs": [
    {
     "name": "stdout",
     "output_type": "stream",
     "text": [
      "Found 32384 validated image filenames.\n",
      "Found 8095 validated image filenames.\n"
     ]
    }
   ],
   "source": [
    "train_datagen = ImageDataGenerator(rescale = 1./255, validation_split = 0.2)\n",
    "\n",
    "# train_set contains 80 percent of images\n",
    "train_gen = train_datagen.flow_from_dataframe(dataframe=df,\n",
    "                                              directory = train_path,  \n",
    "                                              x_col=\"image_name\", \n",
    "                                              y_col=df_columns, \n",
    "                                              subset=\"training\", \n",
    "                                              batch_size=128,\n",
    "                                              seed=42, \n",
    "                                              shuffle = True, \n",
    "                                              class_mode=\"raw\", \n",
    "                                              target_size=(128,128))\n",
    "\n",
    "\n",
    "# val_set contains 20 percent of images \n",
    "val_gen = train_datagen.flow_from_dataframe(dataframe=df,\n",
    "                                            directory = train_path,  \n",
    "                                            x_col=\"image_name\", \n",
    "                                            y_col=df_columns, \n",
    "                                            subset=\"validation\", \n",
    "                                            batch_size=128,\n",
    "                                            seed=42, \n",
    "                                            shuffle = True, \n",
    "                                            class_mode=\"raw\", \n",
    "                                            target_size=(128,128))"
   ]
  },
  {
   "cell_type": "code",
   "execution_count": 18,
   "id": "76ebbd4b",
   "metadata": {
    "execution": {
     "iopub.execute_input": "2023-01-13T03:12:23.037406Z",
     "iopub.status.busy": "2023-01-13T03:12:23.037111Z",
     "iopub.status.idle": "2023-01-13T03:12:23.048863Z",
     "shell.execute_reply": "2023-01-13T03:12:23.047973Z"
    },
    "papermill": {
     "duration": 0.02351,
     "end_time": "2023-01-13T03:12:23.050711",
     "exception": false,
     "start_time": "2023-01-13T03:12:23.027201",
     "status": "completed"
    },
    "tags": []
   },
   "outputs": [],
   "source": [
    "def model_building():\n",
    "    model = Sequential()\n",
    "    model.add(BatchNormalization(input_shape=(128, 128, 3)))\n",
    "    model.add(Conv2D(32, kernel_size=(3, 3), padding='same', activation='relu'))\n",
    "    model.add(Conv2D(32, kernel_size=(3, 3), activation='relu'))\n",
    "    model.add(MaxPooling2D(pool_size=(2, 2)))\n",
    "    model.add(Dropout(0.2))\n",
    "\n",
    "    model.add(Conv2D(64, kernel_size=(3, 3), padding='same', activation='relu'))\n",
    "    model.add(Conv2D(64, kernel_size=(3, 3), activation='relu'))\n",
    "    model.add(MaxPooling2D(pool_size=(2, 2)))\n",
    "    model.add(Dropout(0.2))\n",
    "\n",
    "    model.add(Conv2D(128, kernel_size=(3, 3), padding='same', activation='relu'))\n",
    "    model.add(Conv2D(128, kernel_size=(3, 3), activation='relu'))\n",
    "    model.add(MaxPooling2D(pool_size=(2, 2)))\n",
    "    model.add(Dropout(0.2))\n",
    "\n",
    "    model.add(Conv2D(256, kernel_size=(3, 3), padding='same', activation='relu'))\n",
    "    model.add(Conv2D(256, kernel_size=(3, 3), activation='relu'))\n",
    "    model.add(MaxPooling2D(pool_size=(2, 2)))\n",
    "    model.add(Dropout(0.2))\n",
    "\n",
    "    model.add(Flatten())\n",
    "    model.add(Dense(512, activation='relu'))\n",
    "    model.add(Dropout(0.5))\n",
    "    model.add(Dense(17, activation='sigmoid'))\n",
    "    \n",
    "    return model\n",
    "    "
   ]
  },
  {
   "cell_type": "code",
   "execution_count": 19,
   "id": "502c227c",
   "metadata": {
    "execution": {
     "iopub.execute_input": "2023-01-13T03:12:23.069952Z",
     "iopub.status.busy": "2023-01-13T03:12:23.069200Z",
     "iopub.status.idle": "2023-01-13T03:12:25.625525Z",
     "shell.execute_reply": "2023-01-13T03:12:25.624467Z"
    },
    "papermill": {
     "duration": 2.569869,
     "end_time": "2023-01-13T03:12:25.629303",
     "exception": false,
     "start_time": "2023-01-13T03:12:23.059434",
     "status": "completed"
    },
    "tags": []
   },
   "outputs": [
    {
     "name": "stderr",
     "output_type": "stream",
     "text": [
      "2023-01-13 03:12:23.155714: I tensorflow/stream_executor/cuda/cuda_gpu_executor.cc:937] successful NUMA node read from SysFS had negative value (-1), but there must be at least one NUMA node, so returning NUMA node zero\n"
     ]
    },
    {
     "name": "stdout",
     "output_type": "stream",
     "text": [
      "Model: \"sequential\"\n",
      "_________________________________________________________________\n",
      "Layer (type)                 Output Shape              Param #   \n",
      "=================================================================\n",
      "batch_normalization (BatchNo (None, 128, 128, 3)       12        \n",
      "_________________________________________________________________\n",
      "conv2d (Conv2D)              (None, 128, 128, 32)      896       \n",
      "_________________________________________________________________\n",
      "conv2d_1 (Conv2D)            (None, 126, 126, 32)      9248      \n",
      "_________________________________________________________________\n",
      "max_pooling2d (MaxPooling2D) (None, 63, 63, 32)        0         \n",
      "_________________________________________________________________\n",
      "dropout (Dropout)            (None, 63, 63, 32)        0         \n",
      "_________________________________________________________________\n",
      "conv2d_2 (Conv2D)            (None, 63, 63, 64)        18496     \n",
      "_________________________________________________________________\n",
      "conv2d_3 (Conv2D)            (None, 61, 61, 64)        36928     \n",
      "_________________________________________________________________\n",
      "max_pooling2d_1 (MaxPooling2 (None, 30, 30, 64)        0         \n",
      "_________________________________________________________________\n",
      "dropout_1 (Dropout)          (None, 30, 30, 64)        0         \n",
      "_________________________________________________________________\n",
      "conv2d_4 (Conv2D)            (None, 30, 30, 128)       73856     \n",
      "_________________________________________________________________\n",
      "conv2d_5 (Conv2D)            (None, 28, 28, 128)       147584    \n",
      "_________________________________________________________________\n",
      "max_pooling2d_2 (MaxPooling2 (None, 14, 14, 128)       0         \n",
      "_________________________________________________________________\n",
      "dropout_2 (Dropout)          (None, 14, 14, 128)       0         \n",
      "_________________________________________________________________\n",
      "conv2d_6 (Conv2D)            (None, 14, 14, 256)       295168    \n",
      "_________________________________________________________________\n",
      "conv2d_7 (Conv2D)            (None, 12, 12, 256)       590080    \n",
      "_________________________________________________________________\n",
      "max_pooling2d_3 (MaxPooling2 (None, 6, 6, 256)         0         \n",
      "_________________________________________________________________\n",
      "dropout_3 (Dropout)          (None, 6, 6, 256)         0         \n",
      "_________________________________________________________________\n",
      "flatten (Flatten)            (None, 9216)              0         \n",
      "_________________________________________________________________\n",
      "dense (Dense)                (None, 512)               4719104   \n",
      "_________________________________________________________________\n",
      "dropout_4 (Dropout)          (None, 512)               0         \n",
      "_________________________________________________________________\n",
      "dense_1 (Dense)              (None, 17)                8721      \n",
      "=================================================================\n",
      "Total params: 5,900,093\n",
      "Trainable params: 5,900,087\n",
      "Non-trainable params: 6\n",
      "_________________________________________________________________\n"
     ]
    },
    {
     "name": "stderr",
     "output_type": "stream",
     "text": [
      "2023-01-13 03:12:23.237404: I tensorflow/stream_executor/cuda/cuda_gpu_executor.cc:937] successful NUMA node read from SysFS had negative value (-1), but there must be at least one NUMA node, so returning NUMA node zero\n",
      "2023-01-13 03:12:23.238181: I tensorflow/stream_executor/cuda/cuda_gpu_executor.cc:937] successful NUMA node read from SysFS had negative value (-1), but there must be at least one NUMA node, so returning NUMA node zero\n",
      "2023-01-13 03:12:23.240665: I tensorflow/core/platform/cpu_feature_guard.cc:142] This TensorFlow binary is optimized with oneAPI Deep Neural Network Library (oneDNN) to use the following CPU instructions in performance-critical operations:  AVX2 AVX512F FMA\n",
      "To enable them in other operations, rebuild TensorFlow with the appropriate compiler flags.\n",
      "2023-01-13 03:12:23.241038: I tensorflow/stream_executor/cuda/cuda_gpu_executor.cc:937] successful NUMA node read from SysFS had negative value (-1), but there must be at least one NUMA node, so returning NUMA node zero\n",
      "2023-01-13 03:12:23.242045: I tensorflow/stream_executor/cuda/cuda_gpu_executor.cc:937] successful NUMA node read from SysFS had negative value (-1), but there must be at least one NUMA node, so returning NUMA node zero\n",
      "2023-01-13 03:12:23.242962: I tensorflow/stream_executor/cuda/cuda_gpu_executor.cc:937] successful NUMA node read from SysFS had negative value (-1), but there must be at least one NUMA node, so returning NUMA node zero\n",
      "2023-01-13 03:12:25.122373: I tensorflow/stream_executor/cuda/cuda_gpu_executor.cc:937] successful NUMA node read from SysFS had negative value (-1), but there must be at least one NUMA node, so returning NUMA node zero\n",
      "2023-01-13 03:12:25.123234: I tensorflow/stream_executor/cuda/cuda_gpu_executor.cc:937] successful NUMA node read from SysFS had negative value (-1), but there must be at least one NUMA node, so returning NUMA node zero\n",
      "2023-01-13 03:12:25.123907: I tensorflow/stream_executor/cuda/cuda_gpu_executor.cc:937] successful NUMA node read from SysFS had negative value (-1), but there must be at least one NUMA node, so returning NUMA node zero\n",
      "2023-01-13 03:12:25.124514: I tensorflow/core/common_runtime/gpu/gpu_device.cc:1510] Created device /job:localhost/replica:0/task:0/device:GPU:0 with 15401 MB memory:  -> device: 0, name: Tesla P100-PCIE-16GB, pci bus id: 0000:00:04.0, compute capability: 6.0\n"
     ]
    }
   ],
   "source": [
    "model = model_building()\n",
    "model.summary()"
   ]
  },
  {
   "cell_type": "code",
   "execution_count": 20,
   "id": "b40ccb2c",
   "metadata": {
    "execution": {
     "iopub.execute_input": "2023-01-13T03:12:25.649598Z",
     "iopub.status.busy": "2023-01-13T03:12:25.649318Z",
     "iopub.status.idle": "2023-01-13T03:12:25.661869Z",
     "shell.execute_reply": "2023-01-13T03:12:25.661021Z"
    },
    "papermill": {
     "duration": 0.024339,
     "end_time": "2023-01-13T03:12:25.663797",
     "exception": false,
     "start_time": "2023-01-13T03:12:25.639458",
     "status": "completed"
    },
    "tags": []
   },
   "outputs": [],
   "source": [
    "model.compile(loss='binary_crossentropy',\n",
    "              optimizer='adam',\n",
    "              metrics=[f_beta_score, accuracy_score])\n",
    "\n",
    "# Save the callback\n",
    "callback = EarlyStopping(\n",
    "    monitor=\"val_loss\", \n",
    "    patience=2,\n",
    "    verbose=0,\n",
    "    baseline=None,\n",
    "    restore_best_weights=True,\n",
    ")"
   ]
  },
  {
   "cell_type": "code",
   "execution_count": 21,
   "id": "97ab2e5f",
   "metadata": {
    "execution": {
     "iopub.execute_input": "2023-01-13T03:12:25.683313Z",
     "iopub.status.busy": "2023-01-13T03:12:25.682532Z",
     "iopub.status.idle": "2023-01-13T03:12:25.687043Z",
     "shell.execute_reply": "2023-01-13T03:12:25.686213Z"
    },
    "papermill": {
     "duration": 0.016331,
     "end_time": "2023-01-13T03:12:25.689018",
     "exception": false,
     "start_time": "2023-01-13T03:12:25.672687",
     "status": "completed"
    },
    "tags": []
   },
   "outputs": [],
   "source": [
    "# Batchsize for training and validation set\n",
    "train_steps = train_gen.n // train_gen.batch_size\n",
    "val_steps = val_gen.n // train_gen.batch_size"
   ]
  },
  {
   "cell_type": "code",
   "execution_count": 22,
   "id": "276ddb21",
   "metadata": {
    "execution": {
     "iopub.execute_input": "2023-01-13T03:12:25.708145Z",
     "iopub.status.busy": "2023-01-13T03:12:25.707383Z",
     "iopub.status.idle": "2023-01-13T03:12:25.870063Z",
     "shell.execute_reply": "2023-01-13T03:12:25.868999Z"
    },
    "papermill": {
     "duration": 0.174608,
     "end_time": "2023-01-13T03:12:25.872333",
     "exception": false,
     "start_time": "2023-01-13T03:12:25.697725",
     "status": "completed"
    },
    "tags": []
   },
   "outputs": [
    {
     "data": {
      "text/plain": [
       "255"
      ]
     },
     "execution_count": 22,
     "metadata": {},
     "output_type": "execute_result"
    }
   ],
   "source": [
    "import gc\n",
    "gc.collect()"
   ]
  },
  {
   "cell_type": "code",
   "execution_count": 23,
   "id": "726dd082",
   "metadata": {
    "execution": {
     "iopub.execute_input": "2023-01-13T03:12:25.891846Z",
     "iopub.status.busy": "2023-01-13T03:12:25.891563Z",
     "iopub.status.idle": "2023-01-13T03:44:00.601826Z",
     "shell.execute_reply": "2023-01-13T03:44:00.600678Z"
    },
    "papermill": {
     "duration": 1894.912126,
     "end_time": "2023-01-13T03:44:00.793711",
     "exception": false,
     "start_time": "2023-01-13T03:12:25.881585",
     "status": "completed"
    },
    "tags": []
   },
   "outputs": [
    {
     "name": "stderr",
     "output_type": "stream",
     "text": [
      "2023-01-13 03:12:26.774101: I tensorflow/compiler/mlir/mlir_graph_optimization_pass.cc:185] None of the MLIR Optimization Passes are enabled (registered 2)\n"
     ]
    },
    {
     "name": "stdout",
     "output_type": "stream",
     "text": [
      "Epoch 1/15\n"
     ]
    },
    {
     "name": "stderr",
     "output_type": "stream",
     "text": [
      "2023-01-13 03:12:29.706757: I tensorflow/stream_executor/cuda/cuda_dnn.cc:369] Loaded cuDNN version 8005\n"
     ]
    },
    {
     "name": "stdout",
     "output_type": "stream",
     "text": [
      "253/253 [==============================] - 252s 961ms/step - loss: 0.2371 - f_beta_score: 0.6739 - accuracy_score: 0.9099 - val_loss: 0.2006 - val_f_beta_score: 0.6998 - val_accuracy_score: 0.9219\n",
      "Epoch 2/15\n",
      "253/253 [==============================] - 100s 395ms/step - loss: 0.1691 - f_beta_score: 0.7788 - accuracy_score: 0.9342 - val_loss: 0.1560 - val_f_beta_score: 0.7780 - val_accuracy_score: 0.9375\n",
      "Epoch 3/15\n",
      "253/253 [==============================] - 99s 391ms/step - loss: 0.1494 - f_beta_score: 0.8029 - accuracy_score: 0.9407 - val_loss: 0.1376 - val_f_beta_score: 0.8145 - val_accuracy_score: 0.9456\n",
      "Epoch 4/15\n",
      "253/253 [==============================] - 102s 402ms/step - loss: 0.1395 - f_beta_score: 0.8182 - accuracy_score: 0.9443 - val_loss: 0.1318 - val_f_beta_score: 0.8250 - val_accuracy_score: 0.9470\n",
      "Epoch 5/15\n",
      "253/253 [==============================] - 102s 402ms/step - loss: 0.1322 - f_beta_score: 0.8340 - accuracy_score: 0.9477 - val_loss: 0.1220 - val_f_beta_score: 0.8535 - val_accuracy_score: 0.9525\n",
      "Epoch 6/15\n",
      "253/253 [==============================] - 103s 405ms/step - loss: 0.1246 - f_beta_score: 0.8482 - accuracy_score: 0.9513 - val_loss: 0.1203 - val_f_beta_score: 0.8440 - val_accuracy_score: 0.9529\n",
      "Epoch 7/15\n",
      "253/253 [==============================] - 99s 390ms/step - loss: 0.1200 - f_beta_score: 0.8545 - accuracy_score: 0.9529 - val_loss: 0.1147 - val_f_beta_score: 0.8600 - val_accuracy_score: 0.9554\n",
      "Epoch 8/15\n",
      "253/253 [==============================] - 101s 401ms/step - loss: 0.1163 - f_beta_score: 0.8590 - accuracy_score: 0.9541 - val_loss: 0.1122 - val_f_beta_score: 0.8645 - val_accuracy_score: 0.9567\n",
      "Epoch 9/15\n",
      "253/253 [==============================] - 101s 400ms/step - loss: 0.1113 - f_beta_score: 0.8678 - accuracy_score: 0.9563 - val_loss: 0.1121 - val_f_beta_score: 0.8715 - val_accuracy_score: 0.9570\n",
      "Epoch 10/15\n",
      "253/253 [==============================] - 102s 402ms/step - loss: 0.1085 - f_beta_score: 0.8716 - accuracy_score: 0.9576 - val_loss: 0.1094 - val_f_beta_score: 0.8690 - val_accuracy_score: 0.9571\n",
      "Epoch 11/15\n",
      "253/253 [==============================] - 99s 391ms/step - loss: 0.1044 - f_beta_score: 0.8771 - accuracy_score: 0.9591 - val_loss: 0.1104 - val_f_beta_score: 0.8650 - val_accuracy_score: 0.9566\n",
      "Epoch 12/15\n",
      "253/253 [==============================] - 98s 389ms/step - loss: 0.1021 - f_beta_score: 0.8795 - accuracy_score: 0.9599 - val_loss: 0.1082 - val_f_beta_score: 0.8720 - val_accuracy_score: 0.9580\n",
      "Epoch 13/15\n",
      "253/253 [==============================] - 106s 419ms/step - loss: 0.0991 - f_beta_score: 0.8832 - accuracy_score: 0.9611 - val_loss: 0.1107 - val_f_beta_score: 0.8738 - val_accuracy_score: 0.9584\n",
      "Epoch 14/15\n",
      "253/253 [==============================] - 101s 399ms/step - loss: 0.0948 - f_beta_score: 0.8875 - accuracy_score: 0.9626 - val_loss: 0.1084 - val_f_beta_score: 0.8745 - val_accuracy_score: 0.9590\n"
     ]
    }
   ],
   "source": [
    "history = model.fit(x=train_gen,\n",
    "                    steps_per_epoch=train_steps,\n",
    "                    validation_data=val_gen,\n",
    "                    validation_steps=val_steps,\n",
    "                    epochs=15,\n",
    "                    callbacks=[callback]) "
   ]
  },
  {
   "cell_type": "code",
   "execution_count": 24,
   "id": "115842aa",
   "metadata": {
    "execution": {
     "iopub.execute_input": "2023-01-13T03:44:01.192695Z",
     "iopub.status.busy": "2023-01-13T03:44:01.192349Z",
     "iopub.status.idle": "2023-01-13T03:44:41.522041Z",
     "shell.execute_reply": "2023-01-13T03:44:41.521059Z"
    },
    "papermill": {
     "duration": 40.716354,
     "end_time": "2023-01-13T03:44:41.714019",
     "exception": false,
     "start_time": "2023-01-13T03:44:00.997665",
     "status": "completed"
    },
    "tags": []
   },
   "outputs": [
    {
     "data": {
      "text/plain": [
       "52"
      ]
     },
     "execution_count": 24,
     "metadata": {},
     "output_type": "execute_result"
    }
   ],
   "source": [
    "import gc\n",
    "gc.collect()"
   ]
  },
  {
   "cell_type": "code",
   "execution_count": 25,
   "id": "8a3a242b",
   "metadata": {
    "execution": {
     "iopub.execute_input": "2023-01-13T03:44:42.142965Z",
     "iopub.status.busy": "2023-01-13T03:44:42.142602Z",
     "iopub.status.idle": "2023-01-13T03:44:42.349148Z",
     "shell.execute_reply": "2023-01-13T03:44:42.348043Z"
    },
    "papermill": {
     "duration": 0.402995,
     "end_time": "2023-01-13T03:44:42.351314",
     "exception": false,
     "start_time": "2023-01-13T03:44:41.948319",
     "status": "completed"
    },
    "tags": []
   },
   "outputs": [
    {
     "data": {
      "image/png": "[encoded data removed]",
      "text/plain": [
       "<Figure size 432x288 with 1 Axes>"
      ]
     },
     "metadata": {
      "needs_background": "light"
     },
     "output_type": "display_data"
    }
   ],
   "source": [
    "plt.plot(history.history['loss'])\n",
    "plt.plot(history.history['val_loss'])\n",
    "plt.title('model loss')\n",
    "plt.ylabel('loss')\n",
    "plt.xlabel('epoch')\n",
    "plt.legend(['train', 'validation'], loc='upper left')\n",
    "plt.show()"
   ]
  },
  {
   "cell_type": "code",
   "execution_count": 26,
   "id": "845ca665",
   "metadata": {
    "execution": {
     "iopub.execute_input": "2023-01-13T03:44:42.739112Z",
     "iopub.status.busy": "2023-01-13T03:44:42.738735Z",
     "iopub.status.idle": "2023-01-13T03:44:42.748080Z",
     "shell.execute_reply": "2023-01-13T03:44:42.747216Z"
    },
    "papermill": {
     "duration": 0.206217,
     "end_time": "2023-01-13T03:44:42.750083",
     "exception": false,
     "start_time": "2023-01-13T03:44:42.543866",
     "status": "completed"
    },
    "tags": []
   },
   "outputs": [],
   "source": [
    "# Test data: divide the submission dataframe into two splits as the image names after 40669 is different \n",
    "test_df = submission_df.iloc[:40669]['image_name'].reset_index().drop('index', axis =1)"
   ]
  },
  {
   "cell_type": "code",
   "execution_count": 27,
   "id": "acea9fad",
   "metadata": {
    "execution": {
     "iopub.execute_input": "2023-01-13T03:44:43.139372Z",
     "iopub.status.busy": "2023-01-13T03:44:43.138248Z",
     "iopub.status.idle": "2023-01-13T03:44:43.171657Z",
     "shell.execute_reply": "2023-01-13T03:44:43.170700Z"
    },
    "papermill": {
     "duration": 0.229727,
     "end_time": "2023-01-13T03:44:43.173779",
     "exception": false,
     "start_time": "2023-01-13T03:44:42.944052",
     "status": "completed"
    },
    "tags": []
   },
   "outputs": [
    {
     "data": {
      "text/html": [
       "<div>\n",
       "<style scoped>\n",
       "    .dataframe tbody tr th:only-of-type {\n",
       "        vertical-align: middle;\n",
       "    }\n",
       "\n",
       "    .dataframe tbody tr th {\n",
       "        vertical-align: top;\n",
       "    }\n",
       "\n",
       "    .dataframe thead th {\n",
       "        text-align: right;\n",
       "    }\n",
       "</style>\n",
       "<table border=\"1\" class=\"dataframe\">\n",
       "  <thead>\n",
       "    <tr style=\"text-align: right;\">\n",
       "      <th></th>\n",
       "      <th>image_name</th>\n",
       "    </tr>\n",
       "  </thead>\n",
       "  <tbody>\n",
       "    <tr>\n",
       "      <th>0</th>\n",
       "      <td>test_0.jpg</td>\n",
       "    </tr>\n",
       "    <tr>\n",
       "      <th>1</th>\n",
       "      <td>test_1.jpg</td>\n",
       "    </tr>\n",
       "    <tr>\n",
       "      <th>2</th>\n",
       "      <td>test_2.jpg</td>\n",
       "    </tr>\n",
       "    <tr>\n",
       "      <th>3</th>\n",
       "      <td>test_3.jpg</td>\n",
       "    </tr>\n",
       "    <tr>\n",
       "      <th>4</th>\n",
       "      <td>test_4.jpg</td>\n",
       "    </tr>\n",
       "  </tbody>\n",
       "</table>\n",
       "</div>"
      ],
      "text/plain": [
       "   image_name\n",
       "0  test_0.jpg\n",
       "1  test_1.jpg\n",
       "2  test_2.jpg\n",
       "3  test_3.jpg\n",
       "4  test_4.jpg"
      ]
     },
     "execution_count": 27,
     "metadata": {},
     "output_type": "execute_result"
    }
   ],
   "source": [
    "test_df['image_name'] = submission_df['image_name'].apply(lambda x: '{}.jpg'.format(x))\n",
    "test_df.head()"
   ]
  },
  {
   "cell_type": "code",
   "execution_count": 28,
   "id": "5f8e6583",
   "metadata": {
    "execution": {
     "iopub.execute_input": "2023-01-13T03:44:43.573481Z",
     "iopub.status.busy": "2023-01-13T03:44:43.572461Z",
     "iopub.status.idle": "2023-01-13T03:46:30.868248Z",
     "shell.execute_reply": "2023-01-13T03:46:30.867249Z"
    },
    "papermill": {
     "duration": 107.690099,
     "end_time": "2023-01-13T03:46:31.063484",
     "exception": false,
     "start_time": "2023-01-13T03:44:43.373385",
     "status": "completed"
    },
    "tags": []
   },
   "outputs": [
    {
     "name": "stdout",
     "output_type": "stream",
     "text": [
      "Found 40669 validated image filenames.\n"
     ]
    }
   ],
   "source": [
    "test_datagen = ImageDataGenerator(rescale = 1./255)\n",
    "\n",
    "test_gen = test_datagen.flow_from_dataframe(dataframe=test_df,\n",
    "                                            directory = test_path,  \n",
    "                                            x_col=\"image_name\", \n",
    "                                            y_col=None, \n",
    "                                            batch_size=67,\n",
    "                                            shuffle=False,\n",
    "                                            class_mode=None, \n",
    "                                            target_size=(128,128))\n",
    "\n",
    "test_size = test_gen.n // test_gen.batch_size"
   ]
  },
  {
   "cell_type": "code",
   "execution_count": 29,
   "id": "90e7eced",
   "metadata": {
    "execution": {
     "iopub.execute_input": "2023-01-13T03:46:31.493859Z",
     "iopub.status.busy": "2023-01-13T03:46:31.493157Z",
     "iopub.status.idle": "2023-01-13T03:50:35.292707Z",
     "shell.execute_reply": "2023-01-13T03:50:35.291721Z"
    },
    "papermill": {
     "duration": 244.212992,
     "end_time": "2023-01-13T03:50:35.511847",
     "exception": false,
     "start_time": "2023-01-13T03:46:31.298855",
     "status": "completed"
    },
    "tags": []
   },
   "outputs": [
    {
     "name": "stdout",
     "output_type": "stream",
     "text": [
      "607/607 [==============================] - 243s 400ms/step\n"
     ]
    }
   ],
   "source": [
    "pred = model.predict(test_gen, steps=test_size, verbose=1)"
   ]
  },
  {
   "cell_type": "code",
   "execution_count": 30,
   "id": "180ee8d5",
   "metadata": {
    "execution": {
     "iopub.execute_input": "2023-01-13T03:50:35.963600Z",
     "iopub.status.busy": "2023-01-13T03:50:35.963223Z",
     "iopub.status.idle": "2023-01-13T03:50:44.799190Z",
     "shell.execute_reply": "2023-01-13T03:50:44.798296Z"
    },
    "papermill": {
     "duration": 9.064937,
     "end_time": "2023-01-13T03:50:44.801120",
     "exception": false,
     "start_time": "2023-01-13T03:50:35.736183",
     "status": "completed"
    },
    "tags": []
   },
   "outputs": [
    {
     "data": {
      "text/html": [
       "<div>\n",
       "<style scoped>\n",
       "    .dataframe tbody tr th:only-of-type {\n",
       "        vertical-align: middle;\n",
       "    }\n",
       "\n",
       "    .dataframe tbody tr th {\n",
       "        vertical-align: top;\n",
       "    }\n",
       "\n",
       "    .dataframe thead th {\n",
       "        text-align: right;\n",
       "    }\n",
       "</style>\n",
       "<table border=\"1\" class=\"dataframe\">\n",
       "  <thead>\n",
       "    <tr style=\"text-align: right;\">\n",
       "      <th></th>\n",
       "      <th>image_name</th>\n",
       "      <th>tags</th>\n",
       "    </tr>\n",
       "  </thead>\n",
       "  <tbody>\n",
       "    <tr>\n",
       "      <th>0</th>\n",
       "      <td>test_0.jpg</td>\n",
       "      <td>primary clear</td>\n",
       "    </tr>\n",
       "    <tr>\n",
       "      <th>1</th>\n",
       "      <td>test_1.jpg</td>\n",
       "      <td>primary clear</td>\n",
       "    </tr>\n",
       "    <tr>\n",
       "      <th>2</th>\n",
       "      <td>test_2.jpg</td>\n",
       "      <td>primary partly_cloudy</td>\n",
       "    </tr>\n",
       "    <tr>\n",
       "      <th>3</th>\n",
       "      <td>test_3.jpg</td>\n",
       "      <td>primary agriculture clear cultivation</td>\n",
       "    </tr>\n",
       "    <tr>\n",
       "      <th>4</th>\n",
       "      <td>test_4.jpg</td>\n",
       "      <td>primary partly_cloudy</td>\n",
       "    </tr>\n",
       "  </tbody>\n",
       "</table>\n",
       "</div>"
      ],
      "text/plain": [
       "   image_name                                   tags\n",
       "0  test_0.jpg                          primary clear\n",
       "1  test_1.jpg                          primary clear\n",
       "2  test_2.jpg                  primary partly_cloudy\n",
       "3  test_3.jpg  primary agriculture clear cultivation\n",
       "4  test_4.jpg                  primary partly_cloudy"
      ]
     },
     "execution_count": 30,
     "metadata": {},
     "output_type": "execute_result"
    }
   ],
   "source": [
    "test_names = test_gen.filenames \n",
    "        \n",
    "test_result = pd.DataFrame(pred)\n",
    "test_result = test_result.apply(lambda x: ' '.join(np.array(label_list)[x >= 0.2]), axis=1)\n",
    "\n",
    "test_result_df = pd.DataFrame({'image_name': test_names, 'tags': test_result})\n",
    "test_result_df.head()"
   ]
  },
  {
   "cell_type": "code",
   "execution_count": 31,
   "id": "91d9c033",
   "metadata": {
    "execution": {
     "iopub.execute_input": "2023-01-13T03:50:45.301013Z",
     "iopub.status.busy": "2023-01-13T03:50:45.300648Z",
     "iopub.status.idle": "2023-01-13T03:50:45.310234Z",
     "shell.execute_reply": "2023-01-13T03:50:45.309284Z"
    },
    "papermill": {
     "duration": 0.236312,
     "end_time": "2023-01-13T03:50:45.312328",
     "exception": false,
     "start_time": "2023-01-13T03:50:45.076016",
     "status": "completed"
    },
    "tags": []
   },
   "outputs": [],
   "source": [
    "# additional batch of the test dataset\n",
    "additional_df = submission_df.iloc[40669:]['image_name'].reset_index().drop('index', axis=1)"
   ]
  },
  {
   "cell_type": "code",
   "execution_count": 32,
   "id": "1d66f377",
   "metadata": {
    "execution": {
     "iopub.execute_input": "2023-01-13T03:50:45.759744Z",
     "iopub.status.busy": "2023-01-13T03:50:45.758803Z",
     "iopub.status.idle": "2023-01-13T03:50:45.775629Z",
     "shell.execute_reply": "2023-01-13T03:50:45.774629Z"
    },
    "papermill": {
     "duration": 0.241326,
     "end_time": "2023-01-13T03:50:45.777683",
     "exception": false,
     "start_time": "2023-01-13T03:50:45.536357",
     "status": "completed"
    },
    "tags": []
   },
   "outputs": [
    {
     "data": {
      "text/html": [
       "<div>\n",
       "<style scoped>\n",
       "    .dataframe tbody tr th:only-of-type {\n",
       "        vertical-align: middle;\n",
       "    }\n",
       "\n",
       "    .dataframe tbody tr th {\n",
       "        vertical-align: top;\n",
       "    }\n",
       "\n",
       "    .dataframe thead th {\n",
       "        text-align: right;\n",
       "    }\n",
       "</style>\n",
       "<table border=\"1\" class=\"dataframe\">\n",
       "  <thead>\n",
       "    <tr style=\"text-align: right;\">\n",
       "      <th></th>\n",
       "      <th>image_name</th>\n",
       "    </tr>\n",
       "  </thead>\n",
       "  <tbody>\n",
       "    <tr>\n",
       "      <th>0</th>\n",
       "      <td>file_0.jpg</td>\n",
       "    </tr>\n",
       "    <tr>\n",
       "      <th>1</th>\n",
       "      <td>file_1.jpg</td>\n",
       "    </tr>\n",
       "    <tr>\n",
       "      <th>2</th>\n",
       "      <td>file_10.jpg</td>\n",
       "    </tr>\n",
       "    <tr>\n",
       "      <th>3</th>\n",
       "      <td>file_100.jpg</td>\n",
       "    </tr>\n",
       "    <tr>\n",
       "      <th>4</th>\n",
       "      <td>file_1000.jpg</td>\n",
       "    </tr>\n",
       "  </tbody>\n",
       "</table>\n",
       "</div>"
      ],
      "text/plain": [
       "      image_name\n",
       "0     file_0.jpg\n",
       "1     file_1.jpg\n",
       "2    file_10.jpg\n",
       "3   file_100.jpg\n",
       "4  file_1000.jpg"
      ]
     },
     "execution_count": 32,
     "metadata": {},
     "output_type": "execute_result"
    }
   ],
   "source": [
    "additional_df['image_name'] = additional_df['image_name'].apply(lambda x: '{}.jpg'.format(x))\n",
    "additional_df.head()"
   ]
  },
  {
   "cell_type": "code",
   "execution_count": 33,
   "id": "a6525968",
   "metadata": {
    "execution": {
     "iopub.execute_input": "2023-01-13T03:50:46.221839Z",
     "iopub.status.busy": "2023-01-13T03:50:46.220832Z",
     "iopub.status.idle": "2023-01-13T03:51:39.205393Z",
     "shell.execute_reply": "2023-01-13T03:51:39.204372Z"
    },
    "papermill": {
     "duration": 53.436332,
     "end_time": "2023-01-13T03:51:39.436017",
     "exception": false,
     "start_time": "2023-01-13T03:50:45.999685",
     "status": "completed"
    },
    "tags": []
   },
   "outputs": [
    {
     "name": "stdout",
     "output_type": "stream",
     "text": [
      "Found 20522 validated image filenames.\n"
     ]
    }
   ],
   "source": [
    "additional_gen = test_datagen.flow_from_dataframe(dataframe=additional_df,\n",
    "                                                  directory=\"../input/planets-dataset/test-jpg-additional/test-jpg-additional\", \n",
    "                                                  x_col='image_name',\n",
    "                                                  y_col = None,\n",
    "                                                  batch_size=62,\n",
    "                                                  shuffle=False,\n",
    "                                                  class_mode=None, \n",
    "                                                  target_size=(128, 128))\n",
    "\n",
    "\n",
    "additional_step = additional_gen.n // additional_gen.batch_size"
   ]
  },
  {
   "cell_type": "code",
   "execution_count": 34,
   "id": "574d6ec2",
   "metadata": {
    "execution": {
     "iopub.execute_input": "2023-01-13T03:51:40.030566Z",
     "iopub.status.busy": "2023-01-13T03:51:40.030098Z",
     "iopub.status.idle": "2023-01-13T03:53:43.761001Z",
     "shell.execute_reply": "2023-01-13T03:53:43.760023Z"
    },
    "papermill": {
     "duration": 124.052645,
     "end_time": "2023-01-13T03:53:43.762984",
     "exception": false,
     "start_time": "2023-01-13T03:51:39.710339",
     "status": "completed"
    },
    "tags": []
   },
   "outputs": [
    {
     "name": "stdout",
     "output_type": "stream",
     "text": [
      "331/331 [==============================] - 123s 371ms/step\n"
     ]
    }
   ],
   "source": [
    "# predicted probabilities for each class\n",
    "pred_additional = model.predict(additional_gen, steps=additional_step, verbose=1)"
   ]
  },
  {
   "cell_type": "code",
   "execution_count": 35,
   "id": "eef685d9",
   "metadata": {
    "execution": {
     "iopub.execute_input": "2023-01-13T03:53:44.298083Z",
     "iopub.status.busy": "2023-01-13T03:53:44.297101Z",
     "iopub.status.idle": "2023-01-13T03:53:48.743055Z",
     "shell.execute_reply": "2023-01-13T03:53:48.742025Z"
    },
    "papermill": {
     "duration": 4.740947,
     "end_time": "2023-01-13T03:53:48.745260",
     "exception": false,
     "start_time": "2023-01-13T03:53:44.004313",
     "status": "completed"
    },
    "tags": []
   },
   "outputs": [
    {
     "data": {
      "text/html": [
       "<div>\n",
       "<style scoped>\n",
       "    .dataframe tbody tr th:only-of-type {\n",
       "        vertical-align: middle;\n",
       "    }\n",
       "\n",
       "    .dataframe tbody tr th {\n",
       "        vertical-align: top;\n",
       "    }\n",
       "\n",
       "    .dataframe thead th {\n",
       "        text-align: right;\n",
       "    }\n",
       "</style>\n",
       "<table border=\"1\" class=\"dataframe\">\n",
       "  <thead>\n",
       "    <tr style=\"text-align: right;\">\n",
       "      <th></th>\n",
       "      <th>image_name</th>\n",
       "      <th>tags</th>\n",
       "    </tr>\n",
       "  </thead>\n",
       "  <tbody>\n",
       "    <tr>\n",
       "      <th>0</th>\n",
       "      <td>file_0.jpg</td>\n",
       "      <td>primary clear</td>\n",
       "    </tr>\n",
       "    <tr>\n",
       "      <th>1</th>\n",
       "      <td>file_1.jpg</td>\n",
       "      <td>primary agriculture partly_cloudy</td>\n",
       "    </tr>\n",
       "    <tr>\n",
       "      <th>2</th>\n",
       "      <td>file_10.jpg</td>\n",
       "      <td>haze primary agriculture clear water road</td>\n",
       "    </tr>\n",
       "    <tr>\n",
       "      <th>3</th>\n",
       "      <td>file_100.jpg</td>\n",
       "      <td>primary agriculture clear water road</td>\n",
       "    </tr>\n",
       "    <tr>\n",
       "      <th>4</th>\n",
       "      <td>file_1000.jpg</td>\n",
       "      <td>primary clear</td>\n",
       "    </tr>\n",
       "  </tbody>\n",
       "</table>\n",
       "</div>"
      ],
      "text/plain": [
       "      image_name                                       tags\n",
       "0     file_0.jpg                              primary clear\n",
       "1     file_1.jpg          primary agriculture partly_cloudy\n",
       "2    file_10.jpg  haze primary agriculture clear water road\n",
       "3   file_100.jpg       primary agriculture clear water road\n",
       "4  file_1000.jpg                              primary clear"
      ]
     },
     "execution_count": 35,
     "metadata": {},
     "output_type": "execute_result"
    }
   ],
   "source": [
    "additional_names = additional_gen.filenames \n",
    "        \n",
    "additional_result = pd.DataFrame(pred_additional)\n",
    "additional_result = additional_result.apply(lambda x: ' '.join(np.array(label_list)[x >= 0.2]), axis=1)\n",
    "\n",
    "additional_result_df = pd.DataFrame({'image_name': additional_names, 'tags': additional_result})\n",
    "additional_result_df.head()"
   ]
  },
  {
   "cell_type": "code",
   "execution_count": 36,
   "id": "1c957520",
   "metadata": {
    "execution": {
     "iopub.execute_input": "2023-01-13T03:53:49.220847Z",
     "iopub.status.busy": "2023-01-13T03:53:49.220498Z",
     "iopub.status.idle": "2023-01-13T03:53:49.238624Z",
     "shell.execute_reply": "2023-01-13T03:53:49.237549Z"
    },
    "papermill": {
     "duration": 0.257294,
     "end_time": "2023-01-13T03:53:49.240898",
     "exception": false,
     "start_time": "2023-01-13T03:53:48.983604",
     "status": "completed"
    },
    "tags": []
   },
   "outputs": [
    {
     "data": {
      "text/html": [
       "<div>\n",
       "<style scoped>\n",
       "    .dataframe tbody tr th:only-of-type {\n",
       "        vertical-align: middle;\n",
       "    }\n",
       "\n",
       "    .dataframe tbody tr th {\n",
       "        vertical-align: top;\n",
       "    }\n",
       "\n",
       "    .dataframe thead th {\n",
       "        text-align: right;\n",
       "    }\n",
       "</style>\n",
       "<table border=\"1\" class=\"dataframe\">\n",
       "  <thead>\n",
       "    <tr style=\"text-align: right;\">\n",
       "      <th></th>\n",
       "      <th>image_name</th>\n",
       "      <th>tags</th>\n",
       "    </tr>\n",
       "  </thead>\n",
       "  <tbody>\n",
       "    <tr>\n",
       "      <th>0</th>\n",
       "      <td>test_0.jpg</td>\n",
       "      <td>primary clear</td>\n",
       "    </tr>\n",
       "    <tr>\n",
       "      <th>1</th>\n",
       "      <td>test_1.jpg</td>\n",
       "      <td>primary clear</td>\n",
       "    </tr>\n",
       "    <tr>\n",
       "      <th>2</th>\n",
       "      <td>test_2.jpg</td>\n",
       "      <td>primary partly_cloudy</td>\n",
       "    </tr>\n",
       "    <tr>\n",
       "      <th>3</th>\n",
       "      <td>test_3.jpg</td>\n",
       "      <td>primary agriculture clear cultivation</td>\n",
       "    </tr>\n",
       "    <tr>\n",
       "      <th>4</th>\n",
       "      <td>test_4.jpg</td>\n",
       "      <td>primary partly_cloudy</td>\n",
       "    </tr>\n",
       "    <tr>\n",
       "      <th>...</th>\n",
       "      <td>...</td>\n",
       "      <td>...</td>\n",
       "    </tr>\n",
       "    <tr>\n",
       "      <th>61186</th>\n",
       "      <td>file_9995.jpg</td>\n",
       "      <td>primary cloudy</td>\n",
       "    </tr>\n",
       "    <tr>\n",
       "      <th>61187</th>\n",
       "      <td>file_9996.jpg</td>\n",
       "      <td>primary clear water</td>\n",
       "    </tr>\n",
       "    <tr>\n",
       "      <th>61188</th>\n",
       "      <td>file_9997.jpg</td>\n",
       "      <td>primary clear water road</td>\n",
       "    </tr>\n",
       "    <tr>\n",
       "      <th>61189</th>\n",
       "      <td>file_9998.jpg</td>\n",
       "      <td>cloudy</td>\n",
       "    </tr>\n",
       "    <tr>\n",
       "      <th>61190</th>\n",
       "      <td>file_9999.jpg</td>\n",
       "      <td>primary clear habitation road</td>\n",
       "    </tr>\n",
       "  </tbody>\n",
       "</table>\n",
       "<p>61191 rows × 2 columns</p>\n",
       "</div>"
      ],
      "text/plain": [
       "          image_name                                   tags\n",
       "0         test_0.jpg                          primary clear\n",
       "1         test_1.jpg                          primary clear\n",
       "2         test_2.jpg                  primary partly_cloudy\n",
       "3         test_3.jpg  primary agriculture clear cultivation\n",
       "4         test_4.jpg                  primary partly_cloudy\n",
       "...              ...                                    ...\n",
       "61186  file_9995.jpg                         primary cloudy\n",
       "61187  file_9996.jpg                    primary clear water\n",
       "61188  file_9997.jpg               primary clear water road\n",
       "61189  file_9998.jpg                                 cloudy\n",
       "61190  file_9999.jpg          primary clear habitation road\n",
       "\n",
       "[61191 rows x 2 columns]"
      ]
     },
     "execution_count": 36,
     "metadata": {},
     "output_type": "execute_result"
    }
   ],
   "source": [
    "final_result = pd.concat([test_result_df, additional_result_df])\n",
    "\n",
    "final_result = final_result.reset_index().drop('index', axis =1)\n",
    "\n",
    "final_result"
   ]
  },
  {
   "cell_type": "code",
   "execution_count": 37,
   "id": "121457d5",
   "metadata": {
    "execution": {
     "iopub.execute_input": "2023-01-13T03:53:49.726416Z",
     "iopub.status.busy": "2023-01-13T03:53:49.725392Z",
     "iopub.status.idle": "2023-01-13T03:53:49.752468Z",
     "shell.execute_reply": "2023-01-13T03:53:49.751437Z"
    },
    "papermill": {
     "duration": 0.272514,
     "end_time": "2023-01-13T03:53:49.754849",
     "exception": false,
     "start_time": "2023-01-13T03:53:49.482335",
     "status": "completed"
    },
    "tags": []
   },
   "outputs": [
    {
     "data": {
      "text/html": [
       "<div>\n",
       "<style scoped>\n",
       "    .dataframe tbody tr th:only-of-type {\n",
       "        vertical-align: middle;\n",
       "    }\n",
       "\n",
       "    .dataframe tbody tr th {\n",
       "        vertical-align: top;\n",
       "    }\n",
       "\n",
       "    .dataframe thead th {\n",
       "        text-align: right;\n",
       "    }\n",
       "</style>\n",
       "<table border=\"1\" class=\"dataframe\">\n",
       "  <thead>\n",
       "    <tr style=\"text-align: right;\">\n",
       "      <th></th>\n",
       "      <th>image_name</th>\n",
       "      <th>tags</th>\n",
       "    </tr>\n",
       "  </thead>\n",
       "  <tbody>\n",
       "    <tr>\n",
       "      <th>0</th>\n",
       "      <td>test_0</td>\n",
       "      <td>primary clear</td>\n",
       "    </tr>\n",
       "    <tr>\n",
       "      <th>1</th>\n",
       "      <td>test_1</td>\n",
       "      <td>primary clear</td>\n",
       "    </tr>\n",
       "    <tr>\n",
       "      <th>2</th>\n",
       "      <td>test_2</td>\n",
       "      <td>primary partly_cloudy</td>\n",
       "    </tr>\n",
       "    <tr>\n",
       "      <th>3</th>\n",
       "      <td>test_3</td>\n",
       "      <td>primary agriculture clear cultivation</td>\n",
       "    </tr>\n",
       "    <tr>\n",
       "      <th>4</th>\n",
       "      <td>test_4</td>\n",
       "      <td>primary partly_cloudy</td>\n",
       "    </tr>\n",
       "    <tr>\n",
       "      <th>...</th>\n",
       "      <td>...</td>\n",
       "      <td>...</td>\n",
       "    </tr>\n",
       "    <tr>\n",
       "      <th>61186</th>\n",
       "      <td>file_9995</td>\n",
       "      <td>primary cloudy</td>\n",
       "    </tr>\n",
       "    <tr>\n",
       "      <th>61187</th>\n",
       "      <td>file_9996</td>\n",
       "      <td>primary clear water</td>\n",
       "    </tr>\n",
       "    <tr>\n",
       "      <th>61188</th>\n",
       "      <td>file_9997</td>\n",
       "      <td>primary clear water road</td>\n",
       "    </tr>\n",
       "    <tr>\n",
       "      <th>61189</th>\n",
       "      <td>file_9998</td>\n",
       "      <td>cloudy</td>\n",
       "    </tr>\n",
       "    <tr>\n",
       "      <th>61190</th>\n",
       "      <td>file_9999</td>\n",
       "      <td>primary clear habitation road</td>\n",
       "    </tr>\n",
       "  </tbody>\n",
       "</table>\n",
       "<p>61191 rows × 2 columns</p>\n",
       "</div>"
      ],
      "text/plain": [
       "      image_name                                   tags\n",
       "0         test_0                          primary clear\n",
       "1         test_1                          primary clear\n",
       "2         test_2                  primary partly_cloudy\n",
       "3         test_3  primary agriculture clear cultivation\n",
       "4         test_4                  primary partly_cloudy\n",
       "...          ...                                    ...\n",
       "61186  file_9995                         primary cloudy\n",
       "61187  file_9996                    primary clear water\n",
       "61188  file_9997               primary clear water road\n",
       "61189  file_9998                                 cloudy\n",
       "61190  file_9999          primary clear habitation road\n",
       "\n",
       "[61191 rows x 2 columns]"
      ]
     },
     "execution_count": 37,
     "metadata": {},
     "output_type": "execute_result"
    }
   ],
   "source": [
    "# Remove the .jpg extension from the image_name of the final_result\n",
    "final_result['image_name'] = final_result['image_name'].apply(lambda x: x[:-4])\n",
    "final_result"
   ]
  },
  {
   "cell_type": "code",
   "execution_count": 38,
   "id": "4a276fb5",
   "metadata": {
    "execution": {
     "iopub.execute_input": "2023-01-13T03:53:50.237336Z",
     "iopub.status.busy": "2023-01-13T03:53:50.236958Z",
     "iopub.status.idle": "2023-01-13T03:53:50.316784Z",
     "shell.execute_reply": "2023-01-13T03:53:50.315875Z"
    },
    "papermill": {
     "duration": 0.324851,
     "end_time": "2023-01-13T03:53:50.319103",
     "exception": false,
     "start_time": "2023-01-13T03:53:49.994252",
     "status": "completed"
    },
    "tags": []
   },
   "outputs": [],
   "source": [
    "# save the results to a CSV file save and set the index to false.\n",
    "final_result.to_csv('submission.csv', index=False)"
   ]
  }
 ],
 "metadata": {
  "kernelspec": {
   "display_name": "Python 3",
   "language": "python",
   "name": "python3"
  },
  "language_info": {
   "codemirror_mode": {
    "name": "ipython",
    "version": 3
   },
   "file_extension": ".py",
   "mimetype": "text/x-python",
   "name": "python",
   "nbconvert_exporter": "python",
   "pygments_lexer": "ipython3",
   "version": "3.7.12"
  },
  "papermill": {
   "default_parameters": {},
   "duration": 2616.76886,
   "end_time": "2023-01-13T03:53:54.081898",
   "environment_variables": {},
   "exception": null,
   "input_path": "__notebook__.ipynb",
   "output_path": "__notebook__.ipynb",
   "parameters": {},
   "start_time": "2023-01-13T03:10:17.313038",
   "version": "2.3.4"
  }
 },
 "nbformat": 4,
 "nbformat_minor": 5
}
